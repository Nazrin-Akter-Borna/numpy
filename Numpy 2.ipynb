{
 "cells": [
  {
   "cell_type": "code",
   "execution_count": 10,
   "metadata": {},
   "outputs": [],
   "source": [
    "import numpy as np\n",
    "row_vec = np.array([7, 2, 9, 8]).reshape(2, 2)"
   ]
  },
  {
   "cell_type": "code",
   "execution_count": 11,
   "metadata": {},
   "outputs": [
    {
     "name": "stdout",
     "output_type": "stream",
     "text": [
      "[[7 2]\n",
      " [9 8]]\n"
     ]
    }
   ],
   "source": [
    "print(row_vec)"
   ]
  },
  {
   "cell_type": "code",
   "execution_count": 12,
   "metadata": {},
   "outputs": [
    {
     "data": {
      "text/plain": [
       "(2, 2)"
      ]
     },
     "execution_count": 12,
     "metadata": {},
     "output_type": "execute_result"
    }
   ],
   "source": [
    "row_vec.shape"
   ]
  },
  {
   "cell_type": "code",
   "execution_count": 13,
   "metadata": {},
   "outputs": [],
   "source": [
    "mat = np.array([[2, 0], [5, 1], [7, -3]])\n"
   ]
  },
  {
   "cell_type": "code",
   "execution_count": 14,
   "metadata": {},
   "outputs": [
    {
     "data": {
      "text/plain": [
       "array([[ 2,  0],\n",
       "       [ 5,  1],\n",
       "       [ 7, -3]])"
      ]
     },
     "execution_count": 14,
     "metadata": {},
     "output_type": "execute_result"
    }
   ],
   "source": [
    "mat"
   ]
  },
  {
   "cell_type": "code",
   "execution_count": 15,
   "metadata": {},
   "outputs": [
    {
     "data": {
      "text/plain": [
       "(3, 2)"
      ]
     },
     "execution_count": 15,
     "metadata": {},
     "output_type": "execute_result"
    }
   ],
   "source": [
    "mat.shape"
   ]
  },
  {
   "cell_type": "code",
   "execution_count": 18,
   "metadata": {},
   "outputs": [],
   "source": [
    "x = mat.reshape(2,3)"
   ]
  },
  {
   "cell_type": "code",
   "execution_count": 19,
   "metadata": {},
   "outputs": [
    {
     "data": {
      "text/plain": [
       "array([[ 2,  0,  5],\n",
       "       [ 1,  7, -3]])"
      ]
     },
     "execution_count": 19,
     "metadata": {},
     "output_type": "execute_result"
    }
   ],
   "source": [
    "x"
   ]
  },
  {
   "cell_type": "code",
   "execution_count": 20,
   "metadata": {},
   "outputs": [
    {
     "data": {
      "text/plain": [
       "-3"
      ]
     },
     "execution_count": 20,
     "metadata": {},
     "output_type": "execute_result"
    }
   ],
   "source": [
    "x[1,2]"
   ]
  },
  {
   "cell_type": "code",
   "execution_count": 21,
   "metadata": {},
   "outputs": [
    {
     "data": {
      "text/plain": [
       "2"
      ]
     },
     "execution_count": 21,
     "metadata": {},
     "output_type": "execute_result"
    }
   ],
   "source": [
    "x[0,0]"
   ]
  },
  {
   "cell_type": "code",
   "execution_count": 24,
   "metadata": {},
   "outputs": [],
   "source": [
    "a = np.arange(4).reshape(2,2)"
   ]
  },
  {
   "cell_type": "code",
   "execution_count": 25,
   "metadata": {},
   "outputs": [
    {
     "data": {
      "text/plain": [
       "array([[0, 1],\n",
       "       [2, 3]])"
      ]
     },
     "execution_count": 25,
     "metadata": {},
     "output_type": "execute_result"
    }
   ],
   "source": [
    "a"
   ]
  },
  {
   "cell_type": "code",
   "execution_count": 26,
   "metadata": {},
   "outputs": [],
   "source": [
    "import numpy as np\n",
    "\n",
    "# row vector of the integers 1 to 6, inclusive\n",
    "row_vector = np.array([1,2,3,4,5,6])\n",
    "\n",
    "# column vector of the integers 11 to 14, inclusive\n",
    "column_vector = np.array([11,12,13,14])"
   ]
  },
  {
   "cell_type": "code",
   "execution_count": 27,
   "metadata": {},
   "outputs": [
    {
     "data": {
      "text/plain": [
       "array([1, 2, 3, 4, 5, 6])"
      ]
     },
     "execution_count": 27,
     "metadata": {},
     "output_type": "execute_result"
    }
   ],
   "source": [
    "row_vector"
   ]
  },
  {
   "cell_type": "code",
   "execution_count": 30,
   "metadata": {},
   "outputs": [],
   "source": [
    "import numpy as np\n",
    "\n",
    "# row vector of the integers 1 to 6, inclusive\n",
    "row_vector = np.arange(1,7)\n",
    "\n",
    "# column vector of the integers 11 to 14, inclusive\n",
    "column_vector = np.arange(11,15)"
   ]
  },
  {
   "cell_type": "code",
   "execution_count": 31,
   "metadata": {},
   "outputs": [
    {
     "data": {
      "text/plain": [
       "array([1, 2, 3, 4, 5, 6])"
      ]
     },
     "execution_count": 31,
     "metadata": {},
     "output_type": "execute_result"
    }
   ],
   "source": [
    "row_vector"
   ]
  },
  {
   "cell_type": "code",
   "execution_count": 40,
   "metadata": {},
   "outputs": [
    {
     "name": "stdout",
     "output_type": "stream",
     "text": [
      "[4 5 6]\n"
     ]
    }
   ],
   "source": [
    "import numpy as np\n",
    "\n",
    "def elements_greater_than_mean(arr):\n",
    "    '''\n",
    "    Return a new array with the elements of the array\n",
    "    arr that are greater than its mean.\n",
    "\n",
    "    >>> elements_greater_than_mean(np.array([0.2, 0.8, 0.3, 0.6]))\n",
    "    array([0.8, 0.6])\n",
    "    '''\n",
    "    m = np.mean(arr)\n",
    "    \n",
    "    return(arr[arr>m])\n",
    "    \n",
    "arr=np.array([1,2,3,4,5,6])\n",
    "print(elements_greater_than_mean(arr))"
   ]
  },
  {
   "cell_type": "code",
   "execution_count": 41,
   "metadata": {},
   "outputs": [
    {
     "name": "stdout",
     "output_type": "stream",
     "text": [
      "25\n"
     ]
    }
   ],
   "source": [
    "import numpy as np\n",
    "\n",
    "\n",
    "def dot_product(a, b):\n",
    "    '''\n",
    "    Return the dot product of two numpy arrays of the same length.\n",
    "\n",
    "    Parameters\n",
    "    ----------\n",
    "    a: numpy array with shape (n, )\n",
    "        An array of floating point numbers.\n",
    "    b: numpy array with shape (n, )\n",
    "        An array of floating point numbers.\n",
    "\n",
    "    Returns\n",
    "    -------\n",
    "    dot_prod: float\n",
    "        The dot product of a and b.\n",
    "\n",
    "    '''\n",
    "    a = a*b\n",
    "    b = np.sum(a)\n",
    "    return(b)\n",
    "    \n",
    "a = np.array([1,2,3])\n",
    "b = np.array([2,4,5])\n",
    "\n",
    "print(dot_product(a, b))"
   ]
  },
  {
   "cell_type": "code",
   "execution_count": 46,
   "metadata": {},
   "outputs": [
    {
     "name": "stdout",
     "output_type": "stream",
     "text": [
      "False\n"
     ]
    }
   ],
   "source": [
    "import numpy as np\n",
    "\n",
    "\n",
    "def mat_inner_product(X, Y):\n",
    "    '''\n",
    "    Multiply two numpy arrays, if possible.\n",
    "\n",
    "    Parameters\n",
    "    ----------\n",
    "    X: array, shape (n, m)\n",
    "    Y: array, shape (p, q)\n",
    "\n",
    "    Returns\n",
    "    -------\n",
    "    ret: array, shape (n, q), or False\n",
    "        If the two arrays cannot be multiplied (X times Y), then return False.\n",
    "        Otherwise return the product.\n",
    "    '''\n",
    "    m = X.shape[1]\n",
    "    p = Y.shape[0]\n",
    "    if(m==p):    \n",
    "        return(X.dot(Y))\n",
    "    else:\n",
    "        return(False)\n",
    "X = np.array([[3,2],[7,4],[9,1]])\n",
    "Y = np.array([[2, -1, 3, 0], [-2, 0, -1, 4],[2, -1, 3, 0]])\n",
    "\n",
    "print(mat_inner_product(X, Y))"
   ]
  },
  {
   "cell_type": "code",
   "execution_count": 49,
   "metadata": {},
   "outputs": [
    {
     "name": "stdout",
     "output_type": "stream",
     "text": [
      "[2 3 4 5 6 5 4]\n"
     ]
    }
   ],
   "source": [
    "import numpy as np\n",
    "\n",
    "def elements_twice_min(arr):\n",
    "    \"\"\"\n",
    "    Return all elements of array arr that are greater than or equal to 2 times\n",
    "    the minimum element of arr.\n",
    "\n",
    "    Parameters\n",
    "    ----------\n",
    "    arr: NumPy array (n, m)\n",
    "\n",
    "    Returns\n",
    "    -------\n",
    "    NumPy Array, a vector of size between: 0 and (n * m) - 1\n",
    "    \"\"\"\n",
    "    m = np.min(arr)\n",
    "    return(arr[arr>=2*m])\n",
    "    \n",
    "    \n",
    "arr = np.array([1,2,3,4,5,6,5,4])\n",
    "print(elements_twice_min(arr))"
   ]
  },
  {
   "cell_type": "code",
   "execution_count": 52,
   "metadata": {},
   "outputs": [
    {
     "name": "stdout",
     "output_type": "stream",
     "text": [
      "False\n"
     ]
    }
   ],
   "source": [
    "import numpy as np\n",
    "\n",
    "def mat_addition(A, B):\n",
    "    \"\"\"\n",
    "    Add vector/matrix arrays A and B together. If they cannot be added\n",
    "    return False.\n",
    "\n",
    "    Parameters\n",
    "    ----------\n",
    "    A: NumPy array size of (n,) or (n, m)\n",
    "    B: NumPy array size of (p,) or (p, q)\n",
    "\n",
    "    Returns\n",
    "    -------\n",
    "    NumPy Array of same size as A and B, or False if their sizes differ.\n",
    "    \"\"\"\n",
    "    x = np.size(A)\n",
    "    y = np.size(B)\n",
    "    if(x==y):\n",
    "        return(A+B)\n",
    "    else:\n",
    "        return(False)\n",
    "    \n",
    "A = np.array([1,2,3])\n",
    "B = np.array([2,4,6])\n",
    "print(mat_addition(A,B))"
   ]
  },
  {
   "cell_type": "code",
   "execution_count": 59,
   "metadata": {},
   "outputs": [
    {
     "name": "stdout",
     "output_type": "stream",
     "text": [
      "[[10 14 13]\n",
      " [14 20 20]\n",
      " [13 20 25]]\n"
     ]
    }
   ],
   "source": [
    "import numpy as np\n",
    "\n",
    "def xtx_product(X):\n",
    "    \"\"\"\n",
    "    Given a matrix X, calculate the inner product X^T X, where the ^T\n",
    "    operator denotes the transpose.\n",
    "\n",
    "    Parameters\n",
    "    ----------\n",
    "    X: NumPy array size of (n, m)\n",
    "\n",
    "    Returns\n",
    "    -------\n",
    "    NumPy Array of size (m, m)\n",
    "    \"\"\"\n",
    "    XT = np.transpose(X)\n",
    "     \n",
    "    return(XT.dot(X))\n",
    "    \n",
    "    \n",
    "\n",
    "X = np.array([[1,2,4],[3,4,3]])\n",
    "\n",
    "print(xtx_product(X))"
   ]
  },
  {
   "cell_type": "code",
   "execution_count": 63,
   "metadata": {},
   "outputs": [
    {
     "name": "stdout",
     "output_type": "stream",
     "text": [
      "1\n"
     ]
    }
   ],
   "source": [
    "import numpy as np\n",
    "\n",
    "def mat_rank(X):\n",
    "    \"\"\"\n",
    "    Given a matrix X, return its rank.\n",
    "\n",
    "    Parameters\n",
    "    ----------\n",
    "    X: NumPy array size of (n, m)\n",
    "\n",
    "    Returns\n",
    "    -------\n",
    "    (int) the rank of X\n",
    "    \"\"\"\n",
    "    m = np.linalg.matrix_rank(X)\n",
    "    return(m)\n",
    "\n",
    "X = np.array([[1,1,1,1],[1,2,3,4,5],[6,7,8,9,10],[2,4,6,8,10]])\n",
    "print(mat_rank(X))"
   ]
  },
  {
   "cell_type": "code",
   "execution_count": 64,
   "metadata": {},
   "outputs": [
    {
     "name": "stdout",
     "output_type": "stream",
     "text": [
      "[4 5 6]\n"
     ]
    }
   ],
   "source": [
    "import numpy as np\n",
    "\n",
    "def elements_greater_than_mean(arr):\n",
    "    '''\n",
    "    Return a new array with the elements of the array\n",
    "    arr that are greater than its mean.\n",
    "\n",
    "    >>> elements_greater_than_mean(np.array([0.2, 0.8, 0.3, 0.6]))\n",
    "    array([0.8, 0.6])\n",
    "    '''\n",
    "    m = np.mean(arr)\n",
    "    \n",
    "    return(arr[arr>m])\n",
    "    \n",
    "arr=np.array([1,2,3,4,5,6])\n",
    "print(elements_greater_than_mean(arr))"
   ]
  },
  {
   "cell_type": "code",
   "execution_count": null,
   "metadata": {},
   "outputs": [],
   "source": [
    "\n",
    "\n",
    "\n",
    "\n"
   ]
  }
 ],
 "metadata": {
  "kernelspec": {
   "display_name": "Python 3",
   "language": "python",
   "name": "python3"
  },
  "language_info": {
   "codemirror_mode": {
    "name": "ipython",
    "version": 3
   },
   "file_extension": ".py",
   "mimetype": "text/x-python",
   "name": "python",
   "nbconvert_exporter": "python",
   "pygments_lexer": "ipython3",
   "version": "3.7.4"
  }
 },
 "nbformat": 4,
 "nbformat_minor": 2
}
